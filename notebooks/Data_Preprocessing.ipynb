{
 "cells": [
  {
   "cell_type": "code",
   "execution_count": 12,
   "id": "7dcc2432-2bfc-4326-9d85-a1581e2026dc",
   "metadata": {},
   "outputs": [],
   "source": [
    "import os\n",
    "import yaml\n",
    "import csv"
   ]
  },
  {
   "cell_type": "code",
   "execution_count": 13,
   "id": "c7288e0c-9fd3-4da9-abc0-a675c8733f1f",
   "metadata": {},
   "outputs": [],
   "source": [
    "Dataset_path = r\"D:\\Git Repositories\\bbl\""
   ]
  },
  {
   "cell_type": "code",
   "execution_count": 14,
   "id": "24ef8209-7655-421c-b48c-5878255b2c58",
   "metadata": {},
   "outputs": [],
   "source": [
    "yaml_files = [f for f in os.listdir(Dataset_path) if f.endswith('.yaml') or f.endswith('.yml')]"
   ]
  },
  {
   "cell_type": "code",
   "execution_count": 15,
   "id": "68277329-6e9e-4732-8e9a-26bb1048b47c",
   "metadata": {},
   "outputs": [],
   "source": [
    "yaml_data = []"
   ]
  },
  {
   "cell_type": "code",
   "execution_count": 16,
   "id": "1eb0e6d7-984e-45cb-8a18-fda449ba7140",
   "metadata": {},
   "outputs": [],
   "source": [
    "for yaml_file in yaml_files:\n",
    "    file_path = os.path.join(Dataset_path, yaml_file)\n",
    "\n",
    "    try:\n",
    "        with open(file_path, 'r') as file:\n",
    "            data = yaml.safe_load(file)\n",
    "\n",
    "            if data is not None:\n",
    "                yaml_data.append(data)\n",
    "            else:\n",
    "                print(f\"Warning : {yaml_file} is empty or invalid\")\n",
    "\n",
    "    except Exception as e:\n",
    "        print(f\"Error reading {yaml_file}: {e}\")\n",
    "        \n",
    "    \n",
    "    "
   ]
  },
  {
   "cell_type": "code",
   "execution_count": 17,
   "id": "06134c62-8f0f-4fca-84ee-1cf8ce6e6414",
   "metadata": {},
   "outputs": [
    {
     "data": {
      "text/plain": [
       "618"
      ]
     },
     "execution_count": 17,
     "metadata": {},
     "output_type": "execute_result"
    }
   ],
   "source": [
    "len(yaml_data)"
   ]
  },
  {
   "cell_type": "code",
   "execution_count": 18,
   "id": "ca19d44c-d6fe-4783-887f-3d7435ffcdae",
   "metadata": {},
   "outputs": [
    {
     "data": {
      "text/plain": [
       "618"
      ]
     },
     "execution_count": 18,
     "metadata": {},
     "output_type": "execute_result"
    }
   ],
   "source": [
    "len(yaml_files)"
   ]
  },
  {
   "cell_type": "code",
   "execution_count": 64,
   "id": "21dfb6de-8c2e-46cb-b432-164d1b3c6740",
   "metadata": {},
   "outputs": [],
   "source": [
    "def extract_ball_by_ball(all_matches):\n",
    "\n",
    "    ball_data = []\n",
    "    \n",
    "    for match in all_matches:\n",
    "        match_info = match.get(\"info\", {})\n",
    "        match_date = match_info.get(\"dates\", [\"Unknown\"])[0]\n",
    "        \n",
    "        for inning in match.get(\"innings\", []):\n",
    "            for inning_name, inning_info in inning.items():\n",
    "                team = inning_info.get(\"team\", \"Unknown\")\n",
    "                deliveries = inning_info.get(\"deliveries\", [])\n",
    "                \n",
    "                for delivery in deliveries:\n",
    "                    for ball_id, ball_info in delivery.items():\n",
    "                        try:\n",
    "                            over_str, ball_str = str(ball_id).split(\".\")\n",
    "                            over = int(over_str)\n",
    "                            ball = int(ball_str)\n",
    "                        except Exception as e:\n",
    "                            print(f\"Error parsing ball id {ball_id}: {e}\")\n",
    "                            continue\n",
    "                        \n",
    "                        wicket_player_out = None\n",
    "                        wicket_kind = None\n",
    "                        fielder = None\n",
    "                        \n",
    "                        wicket_info = ball_info.get(\"wicket\", None)\n",
    "                        if wicket_info:\n",
    "                            if isinstance(wicket_info, list):\n",
    "                                wicket_entry = wicket_info[0] if wicket_info else {}\n",
    "                            elif isinstance(wicket_info, dict):\n",
    "                                wicket_entry = wicket_info\n",
    "                            else:\n",
    "                                wicket_entry = {}\n",
    "                            \n",
    "                            wicket_kind = wicket_entry.get(\"kind\", None)\n",
    "                            wicket_player_out = wicket_entry.get(\"player_out\", None)\n",
    "                            \n",
    "                            fielders_list = wicket_entry.get(\"fielders\", [])\n",
    "                            if isinstance(fielders_list, list):\n",
    "                                fielder = \", \".join(fielders_list)\n",
    "                            else:\n",
    "                                fielder = fielders_list\n",
    "                        \n",
    "                        ball_entry = {\n",
    "                            \"date\": match_date,\n",
    "                            \"team\": team,\n",
    "                            \"inning\": inning_name,\n",
    "                            \"over\": over,\n",
    "                            \"ball\": ball,\n",
    "                            \"batsman\": ball_info.get(\"batsman\"),\n",
    "                            \"bowler\": ball_info.get(\"bowler\"),\n",
    "                            \"non_striker\": ball_info.get(\"non_striker\"),\n",
    "                            \"runs_batsman\": ball_info.get(\"runs\", {}).get(\"batsman\", 0),\n",
    "                            \"runs_extras\": ball_info.get(\"runs\", {}).get(\"extras\", 0),\n",
    "                            \"runs_total\": ball_info.get(\"runs\", {}).get(\"total\", 0),\n",
    "                            \"wicket_player_out\": wicket_player_out,\n",
    "                            \"wicket_kind\": wicket_kind,\n",
    "                            \"fielder\": fielder\n",
    "                        }\n",
    "                        ball_data.append(ball_entry)\n",
    "    \n",
    "    return ball_data"
   ]
  },
  {
   "cell_type": "code",
   "execution_count": 65,
   "id": "7ed46ee0-c529-4e39-9a8c-eb0081032d76",
   "metadata": {},
   "outputs": [],
   "source": [
    "flattened_data = extract_ball_by_ball(yaml_data)"
   ]
  },
  {
   "cell_type": "code",
   "execution_count": 68,
   "id": "43827f71-d3c0-4f57-a3d0-72f8150ed7d9",
   "metadata": {},
   "outputs": [
    {
     "name": "stdout",
     "output_type": "stream",
     "text": [
      "CSV file saved at D:\\Git Repositories\\AuctionScout-AI-powered-player-recommendations-for-IPL-auctions\\dataset\\all_bbl_matches_ball_by_ball.csv\n"
     ]
    }
   ],
   "source": [
    "csv_file_path = r\"D:\\Git Repositories\\AuctionScout-AI-powered-player-recommendations-for-IPL-auctions\\dataset\\all_bbl_matches_ball_by_ball.csv\"\n",
    "with open(csv_file_path, mode=\"w\", newline=\"\", encoding=\"utf-8\") as csv_file:\n",
    "    fieldnames = [\"date\", \"team\", \"inning\", \"over\", \"ball\", \"batsman\", \"bowler\", \"non_striker\", \"runs_batsman\", \"runs_extras\", \"runs_total\",\"wicket_player_out\", \"fielder\", \"wicket_kind\"]\n",
    "    writer = csv.DictWriter(csv_file, fieldnames=fieldnames)\n",
    "    writer.writeheader()\n",
    "    writer.writerows(flattened_data)\n",
    "\n",
    "print(f\"CSV file saved at {csv_file_path}\")\n"
   ]
  }
 ],
 "metadata": {
  "kernelspec": {
   "display_name": "Python 3 (ipykernel)",
   "language": "python",
   "name": "python3"
  },
  "language_info": {
   "codemirror_mode": {
    "name": "ipython",
    "version": 3
   },
   "file_extension": ".py",
   "mimetype": "text/x-python",
   "name": "python",
   "nbconvert_exporter": "python",
   "pygments_lexer": "ipython3",
   "version": "3.10.0"
  }
 },
 "nbformat": 4,
 "nbformat_minor": 5
}
