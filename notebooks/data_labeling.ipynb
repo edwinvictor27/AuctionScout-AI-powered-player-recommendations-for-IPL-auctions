{
 "cells": [
  {
   "cell_type": "code",
   "execution_count": 159,
   "id": "5077afd3-480b-4d67-9c06-2dcc22ab2372",
   "metadata": {},
   "outputs": [],
   "source": [
    "import pandas as pd\n",
    "import numpy as np\n",
    "import sklearn\n",
    "import seaborn as sns\n",
    "import matplotlib.pyplot as plt\n",
    "from sklearn.preprocessing import OneHotEncoder\n",
    "from sklearn.preprocessing import RobustScaler\n",
    "from sklearn.preprocessing import StandardScaler\n",
    "from sklearn.preprocessing import MinMaxScaler\n",
    "from sklearn.preprocessing import LabelEncoder\n",
    "from sklearn.model_selection import train_test_split\n",
    "from sklearn.ensemble import RandomForestClassifier\n",
    "from sklearn.metrics import accuracy_score"
   ]
  },
  {
   "cell_type": "code",
   "execution_count": 2,
   "id": "e7217b29-34dd-44f7-b218-324a835c2504",
   "metadata": {},
   "outputs": [],
   "source": [
    "file_path = r\"D:\\Git Repositories\\AuctionScout-AI-powered-player-recommendations-for-IPL-auctions\\dataset\\bowlers_df.csv\"\n",
    "df = pd.read_csv(file_path)"
   ]
  },
  {
   "cell_type": "code",
   "execution_count": 18,
   "id": "1f5c747e-9f4f-4f04-8369-2475644c2352",
   "metadata": {},
   "outputs": [],
   "source": [
    "filtered_df = df.head(20)"
   ]
  },
  {
   "cell_type": "code",
   "execution_count": 19,
   "id": "aa85d51b-0e58-4824-8077-4050a55d488f",
   "metadata": {},
   "outputs": [
    {
     "data": {
      "text/html": [
       "<div>\n",
       "<style scoped>\n",
       "    .dataframe tbody tr th:only-of-type {\n",
       "        vertical-align: middle;\n",
       "    }\n",
       "\n",
       "    .dataframe tbody tr th {\n",
       "        vertical-align: top;\n",
       "    }\n",
       "\n",
       "    .dataframe thead th {\n",
       "        text-align: right;\n",
       "    }\n",
       "</style>\n",
       "<table border=\"1\" class=\"dataframe\">\n",
       "  <thead>\n",
       "    <tr style=\"text-align: right;\">\n",
       "      <th></th>\n",
       "      <th>Player_Name</th>\n",
       "      <th>Deliveries_bowled</th>\n",
       "      <th>runs_conceded</th>\n",
       "      <th>wickets_taken</th>\n",
       "      <th>overs</th>\n",
       "      <th>bowling_average</th>\n",
       "      <th>bowling_strike_rate</th>\n",
       "      <th>economy</th>\n",
       "      <th>Recommendation</th>\n",
       "    </tr>\n",
       "  </thead>\n",
       "  <tbody>\n",
       "    <tr>\n",
       "      <th>0</th>\n",
       "      <td>A Zampa</td>\n",
       "      <td>1248</td>\n",
       "      <td>1566</td>\n",
       "      <td>63</td>\n",
       "      <td>208</td>\n",
       "      <td>24.86</td>\n",
       "      <td>19.81</td>\n",
       "      <td>7.53</td>\n",
       "      <td>BUY</td>\n",
       "    </tr>\n",
       "    <tr>\n",
       "      <th>1</th>\n",
       "      <td>AC Agar</td>\n",
       "      <td>961</td>\n",
       "      <td>1118</td>\n",
       "      <td>36</td>\n",
       "      <td>160</td>\n",
       "      <td>31.06</td>\n",
       "      <td>26.69</td>\n",
       "      <td>6.99</td>\n",
       "      <td>MAYBE</td>\n",
       "    </tr>\n",
       "    <tr>\n",
       "      <th>2</th>\n",
       "      <td>AD Russell</td>\n",
       "      <td>184</td>\n",
       "      <td>283</td>\n",
       "      <td>7</td>\n",
       "      <td>30</td>\n",
       "      <td>40.43</td>\n",
       "      <td>26.29</td>\n",
       "      <td>9.43</td>\n",
       "      <td>MAYBE</td>\n",
       "    </tr>\n",
       "    <tr>\n",
       "      <th>3</th>\n",
       "      <td>ADS Fletcher</td>\n",
       "      <td>6</td>\n",
       "      <td>9</td>\n",
       "      <td>0</td>\n",
       "      <td>1</td>\n",
       "      <td>48.44</td>\n",
       "      <td>39.12</td>\n",
       "      <td>9.00</td>\n",
       "      <td>DON'T BUY</td>\n",
       "    </tr>\n",
       "    <tr>\n",
       "      <th>4</th>\n",
       "      <td>AF Milne</td>\n",
       "      <td>342</td>\n",
       "      <td>435</td>\n",
       "      <td>8</td>\n",
       "      <td>57</td>\n",
       "      <td>54.38</td>\n",
       "      <td>42.75</td>\n",
       "      <td>7.63</td>\n",
       "      <td>DON'T BUY</td>\n",
       "    </tr>\n",
       "    <tr>\n",
       "      <th>5</th>\n",
       "      <td>AJ Finch</td>\n",
       "      <td>6</td>\n",
       "      <td>10</td>\n",
       "      <td>0</td>\n",
       "      <td>1</td>\n",
       "      <td>48.44</td>\n",
       "      <td>39.12</td>\n",
       "      <td>10.00</td>\n",
       "      <td>DON'T BUY</td>\n",
       "    </tr>\n",
       "    <tr>\n",
       "      <th>6</th>\n",
       "      <td>AJ Hosein</td>\n",
       "      <td>351</td>\n",
       "      <td>400</td>\n",
       "      <td>19</td>\n",
       "      <td>58</td>\n",
       "      <td>21.05</td>\n",
       "      <td>18.47</td>\n",
       "      <td>6.90</td>\n",
       "      <td>BUY</td>\n",
       "    </tr>\n",
       "    <tr>\n",
       "      <th>7</th>\n",
       "      <td>AJ Nair</td>\n",
       "      <td>24</td>\n",
       "      <td>27</td>\n",
       "      <td>1</td>\n",
       "      <td>4</td>\n",
       "      <td>27.00</td>\n",
       "      <td>24.00</td>\n",
       "      <td>6.75</td>\n",
       "      <td>MAYBE</td>\n",
       "    </tr>\n",
       "    <tr>\n",
       "      <th>8</th>\n",
       "      <td>AJ Turner</td>\n",
       "      <td>175</td>\n",
       "      <td>230</td>\n",
       "      <td>5</td>\n",
       "      <td>29</td>\n",
       "      <td>46.00</td>\n",
       "      <td>35.00</td>\n",
       "      <td>7.93</td>\n",
       "      <td>DON'T BUY</td>\n",
       "    </tr>\n",
       "    <tr>\n",
       "      <th>9</th>\n",
       "      <td>AJ Tye</td>\n",
       "      <td>1411</td>\n",
       "      <td>1919</td>\n",
       "      <td>89</td>\n",
       "      <td>235</td>\n",
       "      <td>21.56</td>\n",
       "      <td>15.85</td>\n",
       "      <td>8.17</td>\n",
       "      <td>BUY</td>\n",
       "    </tr>\n",
       "    <tr>\n",
       "      <th>10</th>\n",
       "      <td>AM Hardie</td>\n",
       "      <td>512</td>\n",
       "      <td>681</td>\n",
       "      <td>24</td>\n",
       "      <td>85</td>\n",
       "      <td>28.38</td>\n",
       "      <td>21.33</td>\n",
       "      <td>8.01</td>\n",
       "      <td>BUY</td>\n",
       "    </tr>\n",
       "    <tr>\n",
       "      <th>11</th>\n",
       "      <td>Ahmed Daniyal</td>\n",
       "      <td>64</td>\n",
       "      <td>91</td>\n",
       "      <td>3</td>\n",
       "      <td>10</td>\n",
       "      <td>30.33</td>\n",
       "      <td>21.33</td>\n",
       "      <td>9.10</td>\n",
       "      <td>MAYBE</td>\n",
       "    </tr>\n",
       "    <tr>\n",
       "      <th>12</th>\n",
       "      <td>B Doggett</td>\n",
       "      <td>489</td>\n",
       "      <td>639</td>\n",
       "      <td>23</td>\n",
       "      <td>81</td>\n",
       "      <td>27.78</td>\n",
       "      <td>21.26</td>\n",
       "      <td>7.89</td>\n",
       "      <td>BUY</td>\n",
       "    </tr>\n",
       "    <tr>\n",
       "      <th>13</th>\n",
       "      <td>B Laughlin</td>\n",
       "      <td>178</td>\n",
       "      <td>260</td>\n",
       "      <td>1</td>\n",
       "      <td>29</td>\n",
       "      <td>260.00</td>\n",
       "      <td>178.00</td>\n",
       "      <td>8.97</td>\n",
       "      <td>DON'T BUY</td>\n",
       "    </tr>\n",
       "    <tr>\n",
       "      <th>14</th>\n",
       "      <td>B Stanlake</td>\n",
       "      <td>401</td>\n",
       "      <td>561</td>\n",
       "      <td>19</td>\n",
       "      <td>66</td>\n",
       "      <td>29.53</td>\n",
       "      <td>21.11</td>\n",
       "      <td>8.50</td>\n",
       "      <td>MAYBE</td>\n",
       "    </tr>\n",
       "    <tr>\n",
       "      <th>15</th>\n",
       "      <td>BAC Howell</td>\n",
       "      <td>30</td>\n",
       "      <td>36</td>\n",
       "      <td>0</td>\n",
       "      <td>5</td>\n",
       "      <td>48.44</td>\n",
       "      <td>39.12</td>\n",
       "      <td>7.20</td>\n",
       "      <td>DON'T BUY</td>\n",
       "    </tr>\n",
       "    <tr>\n",
       "      <th>16</th>\n",
       "      <td>BAD Manenti</td>\n",
       "      <td>276</td>\n",
       "      <td>373</td>\n",
       "      <td>9</td>\n",
       "      <td>46</td>\n",
       "      <td>41.44</td>\n",
       "      <td>30.67</td>\n",
       "      <td>8.11</td>\n",
       "      <td>DON'T BUY</td>\n",
       "    </tr>\n",
       "    <tr>\n",
       "      <th>17</th>\n",
       "      <td>BCJ Cutting</td>\n",
       "      <td>309</td>\n",
       "      <td>415</td>\n",
       "      <td>8</td>\n",
       "      <td>51</td>\n",
       "      <td>51.88</td>\n",
       "      <td>38.62</td>\n",
       "      <td>8.14</td>\n",
       "      <td>DON'T BUY</td>\n",
       "    </tr>\n",
       "    <tr>\n",
       "      <th>18</th>\n",
       "      <td>BJ Dwarshuis</td>\n",
       "      <td>1331</td>\n",
       "      <td>1818</td>\n",
       "      <td>87</td>\n",
       "      <td>221</td>\n",
       "      <td>20.90</td>\n",
       "      <td>15.30</td>\n",
       "      <td>8.23</td>\n",
       "      <td>BUY</td>\n",
       "    </tr>\n",
       "    <tr>\n",
       "      <th>19</th>\n",
       "      <td>BJ Webster</td>\n",
       "      <td>487</td>\n",
       "      <td>589</td>\n",
       "      <td>19</td>\n",
       "      <td>81</td>\n",
       "      <td>31.00</td>\n",
       "      <td>25.63</td>\n",
       "      <td>7.27</td>\n",
       "      <td>MAYBE</td>\n",
       "    </tr>\n",
       "  </tbody>\n",
       "</table>\n",
       "</div>"
      ],
      "text/plain": [
       "      Player_Name  Deliveries_bowled  ...  economy  Recommendation\n",
       "0         A Zampa               1248  ...     7.53             BUY\n",
       "1         AC Agar                961  ...     6.99           MAYBE\n",
       "2      AD Russell                184  ...     9.43           MAYBE\n",
       "3    ADS Fletcher                  6  ...     9.00       DON'T BUY\n",
       "4        AF Milne                342  ...     7.63       DON'T BUY\n",
       "5        AJ Finch                  6  ...    10.00       DON'T BUY\n",
       "6       AJ Hosein                351  ...     6.90             BUY\n",
       "7         AJ Nair                 24  ...     6.75           MAYBE\n",
       "8       AJ Turner                175  ...     7.93       DON'T BUY\n",
       "9          AJ Tye               1411  ...     8.17             BUY\n",
       "10      AM Hardie                512  ...     8.01             BUY\n",
       "11  Ahmed Daniyal                 64  ...     9.10           MAYBE\n",
       "12      B Doggett                489  ...     7.89             BUY\n",
       "13     B Laughlin                178  ...     8.97       DON'T BUY\n",
       "14     B Stanlake                401  ...     8.50           MAYBE\n",
       "15     BAC Howell                 30  ...     7.20       DON'T BUY\n",
       "16    BAD Manenti                276  ...     8.11       DON'T BUY\n",
       "17    BCJ Cutting                309  ...     8.14       DON'T BUY\n",
       "18   BJ Dwarshuis               1331  ...     8.23             BUY\n",
       "19     BJ Webster                487  ...     7.27           MAYBE\n",
       "\n",
       "[20 rows x 9 columns]"
      ]
     },
     "execution_count": 19,
     "metadata": {},
     "output_type": "execute_result"
    }
   ],
   "source": [
    "filtered_df"
   ]
  },
  {
   "cell_type": "code",
   "execution_count": 44,
   "id": "bdaebde6-ec6c-49cb-899a-e9ee2dab58d5",
   "metadata": {},
   "outputs": [],
   "source": [
    "x = filtered_df.drop(columns=[filtered_df.columns[0], filtered_df.columns[-1]])"
   ]
  },
  {
   "cell_type": "code",
   "execution_count": 46,
   "id": "5e8bfe68-b36b-4bb8-8a16-dbd102ac3ee1",
   "metadata": {},
   "outputs": [],
   "source": [
    "y = filtered_df[[filtered_df.columns[-1]]]"
   ]
  },
  {
   "cell_type": "code",
   "execution_count": 47,
   "id": "9c15b61b-8596-4023-8873-14275445171e",
   "metadata": {},
   "outputs": [],
   "source": [
    "X_train, X_test, y_train, y_test = train_test_split(x, y, test_size=0.2, shuffle=True, random_state=42)"
   ]
  },
  {
   "cell_type": "code",
   "execution_count": 48,
   "id": "7240d844-3b5f-4fed-a3a9-f0cfd7cda941",
   "metadata": {},
   "outputs": [],
   "source": [
    "correlation_matrix = X_train.corr()"
   ]
  },
  {
   "cell_type": "code",
   "execution_count": 63,
   "id": "2f264d1a-f786-4742-aebe-1fd33a988115",
   "metadata": {},
   "outputs": [
    {
     "data": {
      "image/png": "[encoded data removed]",
      "text/plain": [
       "<Figure size 1000x600 with 2 Axes>"
      ]
     },
     "metadata": {},
     "output_type": "display_data"
    }
   ],
   "source": [
    "plt.figure(figsize=(10,6))\n",
    "sns.heatmap(correlation_matrix, annot=True, cmap=plt.cm.CMRmap_r)\n",
    "plt.show()"
   ]
  },
  {
   "cell_type": "code",
   "execution_count": 76,
   "id": "dbb32452-f1ae-4b47-a6ed-58ada049cb09",
   "metadata": {},
   "outputs": [],
   "source": [
    "def correlation(dataset, threshold):\n",
    "    corr_matrix = dataset.corr()\n",
    "    col_corr =set()\n",
    "    for i in range(len(corr_matrix)):\n",
    "        for j in range(i):\n",
    "            if abs(corr_matrix.iloc[i, j]) > threshold:\n",
    "                col_name = corr_matrix.columns[i]\n",
    "                col_corr.add(col_name)\n",
    "    return col_corr"
   ]
  },
  {
   "cell_type": "code",
   "execution_count": 88,
   "id": "3a75fca3-73cd-4ace-9d1a-45458bcffc1f",
   "metadata": {},
   "outputs": [
    {
     "data": {
      "text/plain": [
       "{'bowling_strike_rate', 'overs', 'runs_conceded', 'wickets_taken'}"
      ]
     },
     "execution_count": 88,
     "metadata": {},
     "output_type": "execute_result"
    }
   ],
   "source": [
    "corr_features = correlation(X_train, 0.8)\n",
    "corr_features"
   ]
  },
  {
   "cell_type": "code",
   "execution_count": 89,
   "id": "ef771aa3-24c1-41e2-82fa-5f59aac35134",
   "metadata": {},
   "outputs": [],
   "source": [
    "column_to_keep = 'bowling_strike_rate'"
   ]
  },
  {
   "cell_type": "code",
   "execution_count": 101,
   "id": "bb305fef-dcf1-420e-8c74-4ba31cf5def2",
   "metadata": {},
   "outputs": [],
   "source": [
    "X_train_cleaned = X_train.drop(columns=corr_features - {column_to_keep} , axis=1)"
   ]
  },
  {
   "cell_type": "code",
   "execution_count": 102,
   "id": "3b2a9960-b175-4636-94a0-7877d38133f9",
   "metadata": {},
   "outputs": [],
   "source": [
    "X_test_cleaned = X_test.drop(columns=corr_features - {column_to_keep}, axis=1)"
   ]
  },
  {
   "cell_type": "code",
   "execution_count": 97,
   "id": "1fef102b-cbb9-4ece-8e12-6eda44dfcc75",
   "metadata": {},
   "outputs": [],
   "source": [
    "def outliers(dataset):\n",
    "    \n",
    "    outlier = []\n",
    "    threshold = 3\n",
    "    mean = np.mean(dataset)\n",
    "    sd = np.std(dataset)\n",
    "    \n",
    "    for i in range(len(dataset)):\n",
    "        value = dataset.iloc[i]\n",
    "        z_score = (value - mean)/sd\n",
    "        if np.abs(z_score) > threshold:\n",
    "            outlier.append(i)\n",
    "            \n",
    "    return outlier    "
   ]
  },
  {
   "cell_type": "code",
   "execution_count": 109,
   "id": "d23f43f8-3b5a-42bf-a50f-6a5d593a9e40",
   "metadata": {},
   "outputs": [
    {
     "name": "stdout",
     "output_type": "stream",
     "text": [
      "[6]\n"
     ]
    }
   ],
   "source": [
    "# checking if there is any outlier \n",
    "col_to_be_checked = X_train_cleaned['bowling_strike_rate']\n",
    "outlier_check = outliers(col_to_be_checked)\n",
    "print(outlier_check)"
   ]
  },
  {
   "cell_type": "code",
   "execution_count": 107,
   "id": "c65741ea-1766-47ff-986d-bf70fb793bbe",
   "metadata": {},
   "outputs": [
    {
     "data": {
      "text/html": [
       "<div>\n",
       "<style scoped>\n",
       "    .dataframe tbody tr th:only-of-type {\n",
       "        vertical-align: middle;\n",
       "    }\n",
       "\n",
       "    .dataframe tbody tr th {\n",
       "        vertical-align: top;\n",
       "    }\n",
       "\n",
       "    .dataframe thead th {\n",
       "        text-align: right;\n",
       "    }\n",
       "</style>\n",
       "<table border=\"1\" class=\"dataframe\">\n",
       "  <thead>\n",
       "    <tr style=\"text-align: right;\">\n",
       "      <th></th>\n",
       "      <th>Deliveries_bowled</th>\n",
       "      <th>bowling_average</th>\n",
       "      <th>bowling_strike_rate</th>\n",
       "      <th>economy</th>\n",
       "    </tr>\n",
       "  </thead>\n",
       "  <tbody>\n",
       "    <tr>\n",
       "      <th>8</th>\n",
       "      <td>175</td>\n",
       "      <td>46.00</td>\n",
       "      <td>35.00</td>\n",
       "      <td>7.93</td>\n",
       "    </tr>\n",
       "    <tr>\n",
       "      <th>5</th>\n",
       "      <td>6</td>\n",
       "      <td>48.44</td>\n",
       "      <td>39.12</td>\n",
       "      <td>10.00</td>\n",
       "    </tr>\n",
       "    <tr>\n",
       "      <th>11</th>\n",
       "      <td>64</td>\n",
       "      <td>30.33</td>\n",
       "      <td>21.33</td>\n",
       "      <td>9.10</td>\n",
       "    </tr>\n",
       "    <tr>\n",
       "      <th>3</th>\n",
       "      <td>6</td>\n",
       "      <td>48.44</td>\n",
       "      <td>39.12</td>\n",
       "      <td>9.00</td>\n",
       "    </tr>\n",
       "    <tr>\n",
       "      <th>18</th>\n",
       "      <td>1331</td>\n",
       "      <td>20.90</td>\n",
       "      <td>15.30</td>\n",
       "      <td>8.23</td>\n",
       "    </tr>\n",
       "    <tr>\n",
       "      <th>16</th>\n",
       "      <td>276</td>\n",
       "      <td>41.44</td>\n",
       "      <td>30.67</td>\n",
       "      <td>8.11</td>\n",
       "    </tr>\n",
       "    <tr>\n",
       "      <th>13</th>\n",
       "      <td>178</td>\n",
       "      <td>260.00</td>\n",
       "      <td>178.00</td>\n",
       "      <td>8.97</td>\n",
       "    </tr>\n",
       "    <tr>\n",
       "      <th>2</th>\n",
       "      <td>184</td>\n",
       "      <td>40.43</td>\n",
       "      <td>26.29</td>\n",
       "      <td>9.43</td>\n",
       "    </tr>\n",
       "    <tr>\n",
       "      <th>9</th>\n",
       "      <td>1411</td>\n",
       "      <td>21.56</td>\n",
       "      <td>15.85</td>\n",
       "      <td>8.17</td>\n",
       "    </tr>\n",
       "    <tr>\n",
       "      <th>19</th>\n",
       "      <td>487</td>\n",
       "      <td>31.00</td>\n",
       "      <td>25.63</td>\n",
       "      <td>7.27</td>\n",
       "    </tr>\n",
       "  </tbody>\n",
       "</table>\n",
       "</div>"
      ],
      "text/plain": [
       "    Deliveries_bowled  bowling_average  bowling_strike_rate  economy\n",
       "8                 175            46.00                35.00     7.93\n",
       "5                   6            48.44                39.12    10.00\n",
       "11                 64            30.33                21.33     9.10\n",
       "3                   6            48.44                39.12     9.00\n",
       "18               1331            20.90                15.30     8.23\n",
       "16                276            41.44                30.67     8.11\n",
       "13                178           260.00               178.00     8.97\n",
       "2                 184            40.43                26.29     9.43\n",
       "9                1411            21.56                15.85     8.17\n",
       "19                487            31.00                25.63     7.27"
      ]
     },
     "execution_count": 107,
     "metadata": {},
     "output_type": "execute_result"
    }
   ],
   "source": [
    "X_train_cleaned.head(10)"
   ]
  },
  {
   "cell_type": "code",
   "execution_count": 120,
   "id": "b0d52f9e-adfb-40f4-8a05-c182e9583bd1",
   "metadata": {},
   "outputs": [],
   "source": [
    "def robust_scaler(dataset):\n",
    "    scaler = RobustScaler()\n",
    "    scaled_values = scaler.fit_transform(dataset)\n",
    "    dataset[dataset.columns[0]] = scaled_values\n",
    "    return dataset\n",
    "    "
   ]
  },
  {
   "cell_type": "code",
   "execution_count": 125,
   "id": "b8c6cc03-18d7-4db6-b453-c9ab10ee6b86",
   "metadata": {},
   "outputs": [],
   "source": [
    "def standard_scaler(dataset):\n",
    "    scaler = StandardScaler()\n",
    "    scaled_values = scaler.fit_transform(dataset)\n",
    "    dataset[dataset.columns[0]] = scaled_values\n",
    "    return dataset"
   ]
  },
  {
   "cell_type": "code",
   "execution_count": 126,
   "id": "9b0ee97d-43ab-49b8-9880-05ebb62c2bbc",
   "metadata": {},
   "outputs": [],
   "source": [
    "def min_max_scaler(dataset):\n",
    "    scaler = MinMaxScaler()\n",
    "    scaled_values = scaler.fit_transform(dataset)\n",
    "    dataset[dataset.columns[0]] = scaled_values\n",
    "    return dataset"
   ]
  },
  {
   "cell_type": "code",
   "execution_count": 121,
   "id": "a5bdc4b9-aa91-423a-af35-6af9e1259287",
   "metadata": {},
   "outputs": [
    {
     "name": "stderr",
     "output_type": "stream",
     "text": [
      "C:\\Users\\edwin victor\\AppData\\Local\\Temp\\ipykernel_12620\\3429774322.py:4: SettingWithCopyWarning: \n",
      "A value is trying to be set on a copy of a slice from a DataFrame.\n",
      "Try using .loc[row_indexer,col_indexer] = value instead\n",
      "\n",
      "See the caveats in the documentation: https://pandas.pydata.org/pandas-docs/stable/user_guide/indexing.html#returning-a-view-versus-a-copy\n",
      "  dataset[dataset.columns[0]] = scaled_values\n"
     ]
    }
   ],
   "source": [
    "column_to_be_scaled = X_train_cleaned[[\"Deliveries_bowled\"]]\n",
    "scaled_df = robust_scaler(column_to_be_scaled)"
   ]
  },
  {
   "cell_type": "code",
   "execution_count": 127,
   "id": "470d93f0-4a85-495f-816c-41020007b035",
   "metadata": {},
   "outputs": [
    {
     "name": "stderr",
     "output_type": "stream",
     "text": [
      "C:\\Users\\edwin victor\\AppData\\Local\\Temp\\ipykernel_12620\\3429774322.py:4: SettingWithCopyWarning: \n",
      "A value is trying to be set on a copy of a slice from a DataFrame.\n",
      "Try using .loc[row_indexer,col_indexer] = value instead\n",
      "\n",
      "See the caveats in the documentation: https://pandas.pydata.org/pandas-docs/stable/user_guide/indexing.html#returning-a-view-versus-a-copy\n",
      "  dataset[dataset.columns[0]] = scaled_values\n"
     ]
    }
   ],
   "source": [
    "column_to_be_scaled = X_train_cleaned[[\"bowling_average\"]]\n",
    "scaled_df_2 = robust_scaler(column_to_be_scaled)"
   ]
  },
  {
   "cell_type": "code",
   "execution_count": 128,
   "id": "382da577-b9ce-451f-b512-1a0e5c362f0f",
   "metadata": {},
   "outputs": [
    {
     "name": "stderr",
     "output_type": "stream",
     "text": [
      "C:\\Users\\edwin victor\\AppData\\Local\\Temp\\ipykernel_12620\\132903432.py:4: SettingWithCopyWarning: \n",
      "A value is trying to be set on a copy of a slice from a DataFrame.\n",
      "Try using .loc[row_indexer,col_indexer] = value instead\n",
      "\n",
      "See the caveats in the documentation: https://pandas.pydata.org/pandas-docs/stable/user_guide/indexing.html#returning-a-view-versus-a-copy\n",
      "  dataset[dataset.columns[0]] = scaled_values\n"
     ]
    }
   ],
   "source": [
    "column_to_be_scaled = X_train_cleaned[[\"economy\"]]\n",
    "scaled_df_3 = min_max_scaler(column_to_be_scaled)"
   ]
  },
  {
   "cell_type": "code",
   "execution_count": 130,
   "id": "a1db025b-be29-4df9-9032-62c9b8daa6e1",
   "metadata": {},
   "outputs": [
    {
     "name": "stderr",
     "output_type": "stream",
     "text": [
      "C:\\Users\\edwin victor\\AppData\\Local\\Temp\\ipykernel_12620\\3429774322.py:4: SettingWithCopyWarning: \n",
      "A value is trying to be set on a copy of a slice from a DataFrame.\n",
      "Try using .loc[row_indexer,col_indexer] = value instead\n",
      "\n",
      "See the caveats in the documentation: https://pandas.pydata.org/pandas-docs/stable/user_guide/indexing.html#returning-a-view-versus-a-copy\n",
      "  dataset[dataset.columns[0]] = scaled_values\n"
     ]
    }
   ],
   "source": [
    "column_to_be_scaled = X_train_cleaned[[\"bowling_strike_rate\"]]\n",
    "scaled_df_4 = robust_scaler(column_to_be_scaled)"
   ]
  },
  {
   "cell_type": "code",
   "execution_count": 133,
   "id": "3e5460af-ddcb-43a2-bf26-4e1776fe3169",
   "metadata": {},
   "outputs": [
    {
     "data": {
      "text/html": [
       "<div>\n",
       "<style scoped>\n",
       "    .dataframe tbody tr th:only-of-type {\n",
       "        vertical-align: middle;\n",
       "    }\n",
       "\n",
       "    .dataframe tbody tr th {\n",
       "        vertical-align: top;\n",
       "    }\n",
       "\n",
       "    .dataframe thead th {\n",
       "        text-align: right;\n",
       "    }\n",
       "</style>\n",
       "<table border=\"1\" class=\"dataframe\">\n",
       "  <thead>\n",
       "    <tr style=\"text-align: right;\">\n",
       "      <th></th>\n",
       "      <th>Deliveries_bowled</th>\n",
       "      <th>bowling_average</th>\n",
       "      <th>bowling_strike_rate</th>\n",
       "      <th>economy</th>\n",
       "    </tr>\n",
       "  </thead>\n",
       "  <tbody>\n",
       "    <tr>\n",
       "      <th>8</th>\n",
       "      <td>-0.393828</td>\n",
       "      <td>0.806045</td>\n",
       "      <td>0.687827</td>\n",
       "      <td>0.363077</td>\n",
       "    </tr>\n",
       "  </tbody>\n",
       "</table>\n",
       "</div>"
      ],
      "text/plain": [
       "   Deliveries_bowled  bowling_average  bowling_strike_rate   economy\n",
       "8          -0.393828         0.806045             0.687827  0.363077"
      ]
     },
     "execution_count": 133,
     "metadata": {},
     "output_type": "execute_result"
    }
   ],
   "source": [
    "X_train_scaled = pd.concat([scaled_df, scaled_df_2, scaled_df_4, scaled_df_3], axis=1)\n",
    "X_train_scaled.head(1)"
   ]
  },
  {
   "cell_type": "code",
   "execution_count": 134,
   "id": "3c48dd54-cd96-465c-8f7e-75e72d2ae254",
   "metadata": {},
   "outputs": [
    {
     "name": "stderr",
     "output_type": "stream",
     "text": [
      "C:\\Users\\edwin victor\\AppData\\Local\\Temp\\ipykernel_12620\\3429774322.py:4: SettingWithCopyWarning: \n",
      "A value is trying to be set on a copy of a slice from a DataFrame.\n",
      "Try using .loc[row_indexer,col_indexer] = value instead\n",
      "\n",
      "See the caveats in the documentation: https://pandas.pydata.org/pandas-docs/stable/user_guide/indexing.html#returning-a-view-versus-a-copy\n",
      "  dataset[dataset.columns[0]] = scaled_values\n"
     ]
    }
   ],
   "source": [
    "column_to_be_scaled = X_test_cleaned[[\"Deliveries_bowled\"]]\n",
    "scaled_df_5 = robust_scaler(column_to_be_scaled)"
   ]
  },
  {
   "cell_type": "code",
   "execution_count": 135,
   "id": "6f2e7668-20fe-4962-b904-01e574e5ca9f",
   "metadata": {},
   "outputs": [
    {
     "name": "stderr",
     "output_type": "stream",
     "text": [
      "C:\\Users\\edwin victor\\AppData\\Local\\Temp\\ipykernel_12620\\3429774322.py:4: SettingWithCopyWarning: \n",
      "A value is trying to be set on a copy of a slice from a DataFrame.\n",
      "Try using .loc[row_indexer,col_indexer] = value instead\n",
      "\n",
      "See the caveats in the documentation: https://pandas.pydata.org/pandas-docs/stable/user_guide/indexing.html#returning-a-view-versus-a-copy\n",
      "  dataset[dataset.columns[0]] = scaled_values\n"
     ]
    }
   ],
   "source": [
    "column_to_be_scaled = X_test_cleaned[[\"bowling_average\"]]\n",
    "scaled_df_6 = robust_scaler(column_to_be_scaled)"
   ]
  },
  {
   "cell_type": "code",
   "execution_count": 136,
   "id": "0cf8ef1e-5206-4a5b-90f4-fe838c910089",
   "metadata": {},
   "outputs": [
    {
     "name": "stderr",
     "output_type": "stream",
     "text": [
      "C:\\Users\\edwin victor\\AppData\\Local\\Temp\\ipykernel_12620\\3429774322.py:4: SettingWithCopyWarning: \n",
      "A value is trying to be set on a copy of a slice from a DataFrame.\n",
      "Try using .loc[row_indexer,col_indexer] = value instead\n",
      "\n",
      "See the caveats in the documentation: https://pandas.pydata.org/pandas-docs/stable/user_guide/indexing.html#returning-a-view-versus-a-copy\n",
      "  dataset[dataset.columns[0]] = scaled_values\n"
     ]
    }
   ],
   "source": [
    "column_to_be_scaled = X_test_cleaned[[\"bowling_strike_rate\"]]\n",
    "scaled_df_7 = robust_scaler(column_to_be_scaled)"
   ]
  },
  {
   "cell_type": "code",
   "execution_count": 139,
   "id": "93dc3038-b096-472a-bc30-2e688a85bbe7",
   "metadata": {},
   "outputs": [
    {
     "name": "stderr",
     "output_type": "stream",
     "text": [
      "C:\\Users\\edwin victor\\AppData\\Local\\Temp\\ipykernel_12620\\132903432.py:4: SettingWithCopyWarning: \n",
      "A value is trying to be set on a copy of a slice from a DataFrame.\n",
      "Try using .loc[row_indexer,col_indexer] = value instead\n",
      "\n",
      "See the caveats in the documentation: https://pandas.pydata.org/pandas-docs/stable/user_guide/indexing.html#returning-a-view-versus-a-copy\n",
      "  dataset[dataset.columns[0]] = scaled_values\n"
     ]
    }
   ],
   "source": [
    "column_to_be_scaled = X_test_cleaned[[\"economy\"]]\n",
    "scaled_df_8 = min_max_scaler(column_to_be_scaled)"
   ]
  },
  {
   "cell_type": "code",
   "execution_count": 140,
   "id": "af80c8ed-ec62-42a3-9858-c3d868f95994",
   "metadata": {},
   "outputs": [
    {
     "data": {
      "text/html": [
       "<div>\n",
       "<style scoped>\n",
       "    .dataframe tbody tr th:only-of-type {\n",
       "        vertical-align: middle;\n",
       "    }\n",
       "\n",
       "    .dataframe tbody tr th {\n",
       "        vertical-align: top;\n",
       "    }\n",
       "\n",
       "    .dataframe thead th {\n",
       "        text-align: right;\n",
       "    }\n",
       "</style>\n",
       "<table border=\"1\" class=\"dataframe\">\n",
       "  <thead>\n",
       "    <tr style=\"text-align: right;\">\n",
       "      <th></th>\n",
       "      <th>Deliveries_bowled</th>\n",
       "      <th>bowling_average</th>\n",
       "      <th>bowling_strike_rate</th>\n",
       "      <th>economy</th>\n",
       "    </tr>\n",
       "  </thead>\n",
       "  <tbody>\n",
       "    <tr>\n",
       "      <th>0</th>\n",
       "      <td>0.772527</td>\n",
       "      <td>-0.752400</td>\n",
       "      <td>-0.932486</td>\n",
       "      <td>0.469565</td>\n",
       "    </tr>\n",
       "    <tr>\n",
       "      <th>17</th>\n",
       "      <td>-0.410838</td>\n",
       "      <td>0.612936</td>\n",
       "      <td>0.433031</td>\n",
       "      <td>1.000000</td>\n",
       "    </tr>\n",
       "    <tr>\n",
       "      <th>15</th>\n",
       "      <td>-0.762445</td>\n",
       "      <td>0.439111</td>\n",
       "      <td>0.469328</td>\n",
       "      <td>0.182609</td>\n",
       "    </tr>\n",
       "    <tr>\n",
       "      <th>1</th>\n",
       "      <td>0.410838</td>\n",
       "      <td>-0.439111</td>\n",
       "      <td>-0.433031</td>\n",
       "      <td>0.000000</td>\n",
       "    </tr>\n",
       "  </tbody>\n",
       "</table>\n",
       "</div>"
      ],
      "text/plain": [
       "    Deliveries_bowled  bowling_average  bowling_strike_rate   economy\n",
       "0            0.772527        -0.752400            -0.932486  0.469565\n",
       "17          -0.410838         0.612936             0.433031  1.000000\n",
       "15          -0.762445         0.439111             0.469328  0.182609\n",
       "1            0.410838        -0.439111            -0.433031  0.000000"
      ]
     },
     "execution_count": 140,
     "metadata": {},
     "output_type": "execute_result"
    }
   ],
   "source": [
    "X_test_scaled = pd.concat([scaled_df_5, scaled_df_6, scaled_df_7, scaled_df_8], axis=1)\n",
    "X_test_scaled"
   ]
  },
  {
   "cell_type": "code",
   "execution_count": 154,
   "id": "8033578a-898e-485c-96eb-b0c56ca0a27e",
   "metadata": {},
   "outputs": [],
   "source": [
    "def label_encoder(dataset):\n",
    "    encoder = LabelEncoder()\n",
    "    encoded_column = encoder.fit_transform(dataset)\n",
    "    dataset = pd.DataFrame(encoded_column, columns=[dataset.columns[0]], index=dataset.index)\n",
    "    return dataset\n",
    "    "
   ]
  },
  {
   "cell_type": "code",
   "execution_count": 158,
   "id": "ac210a06-289f-4bda-a14a-0274f31fd4aa",
   "metadata": {},
   "outputs": [
    {
     "name": "stderr",
     "output_type": "stream",
     "text": [
      "D:\\miniconda\\miniconda\\envs\\bbl\\lib\\site-packages\\sklearn\\preprocessing\\_label.py:110: DataConversionWarning: A column-vector y was passed when a 1d array was expected. Please change the shape of y to (n_samples, ), for example using ravel().\n",
      "  y = column_or_1d(y, warn=True)\n"
     ]
    }
   ],
   "source": [
    "target_col = y_train[[\"Recommendation\"]]\n",
    "y_train_encoded = label_encoder(target_col)"
   ]
  },
  {
   "cell_type": "code",
   "execution_count": 157,
   "id": "a51cc9b5-b7ea-48cb-8e23-5aed4efc449a",
   "metadata": {},
   "outputs": [
    {
     "name": "stderr",
     "output_type": "stream",
     "text": [
      "D:\\miniconda\\miniconda\\envs\\bbl\\lib\\site-packages\\sklearn\\preprocessing\\_label.py:110: DataConversionWarning: A column-vector y was passed when a 1d array was expected. Please change the shape of y to (n_samples, ), for example using ravel().\n",
      "  y = column_or_1d(y, warn=True)\n"
     ]
    }
   ],
   "source": [
    "target_col = y_test[[\"Recommendation\"]]\n",
    "y_test_encoded = label_encoder(target_col)"
   ]
  },
  {
   "cell_type": "code",
   "execution_count": 175,
   "id": "a04f3e36-d3c9-44d7-b146-d43cafda08b0",
   "metadata": {},
   "outputs": [],
   "source": [
    "def model_training(X_train, y_train, X_test):\n",
    "    model = RandomForestClassifier()\n",
    "    model.fit(X_train, y_train)\n",
    "    y_pred = model.predict(X_test)\n",
    "    return y_pred\n"
   ]
  },
  {
   "cell_type": "code",
   "execution_count": 170,
   "id": "d3557461-00fb-4278-a0d1-986dc0031bf5",
   "metadata": {},
   "outputs": [
    {
     "data": {
      "text/plain": [
       "Index(['Deliveries_bowled', 'bowling_average', 'bowling_strike_rate',\n",
       "       'economy'],\n",
       "      dtype='object')"
      ]
     },
     "execution_count": 170,
     "metadata": {},
     "output_type": "execute_result"
    }
   ],
   "source": [
    "X_train_scaled.columns"
   ]
  },
  {
   "cell_type": "code",
   "execution_count": 172,
   "id": "ea38bda9-1ae8-46e3-91c0-e8e54a9e283c",
   "metadata": {},
   "outputs": [
    {
     "name": "stderr",
     "output_type": "stream",
     "text": [
      "D:\\miniconda\\miniconda\\envs\\bbl\\lib\\site-packages\\sklearn\\base.py:1389: DataConversionWarning: A column-vector y was passed when a 1d array was expected. Please change the shape of y to (n_samples,), for example using ravel().\n",
      "  return fit_method(estimator, *args, **kwargs)\n"
     ]
    }
   ],
   "source": [
    "y_pred = model_training(X_train_scaled, y_train_encoded, X_test_scaled)"
   ]
  },
  {
   "cell_type": "code",
   "execution_count": 173,
   "id": "8fbccf17-0bd7-4f87-97ff-fddb6a0fe708",
   "metadata": {},
   "outputs": [
    {
     "data": {
      "text/plain": [
       "array([0, 1, 1, 0])"
      ]
     },
     "execution_count": 173,
     "metadata": {},
     "output_type": "execute_result"
    }
   ],
   "source": [
    "y_pred"
   ]
  },
  {
   "cell_type": "code",
   "execution_count": 174,
   "id": "617b7d8d-4d52-407f-ac18-47597d74f801",
   "metadata": {},
   "outputs": [
    {
     "name": "stdout",
     "output_type": "stream",
     "text": [
      "Accuracy: 0.7500\n"
     ]
    }
   ],
   "source": [
    "accuracy = accuracy_score(y_test_encoded, y_pred)\n",
    "print(f\"Accuracy: {accuracy:.4f}\")"
   ]
  },
  {
   "cell_type": "code",
   "execution_count": null,
   "id": "393a78a5-a455-4f6f-90c7-61bd4733edb5",
   "metadata": {},
   "outputs": [],
   "source": []
  }
 ],
 "metadata": {
  "kernelspec": {
   "display_name": "Python 3 (ipykernel)",
   "language": "python",
   "name": "python3"
  },
  "language_info": {
   "codemirror_mode": {
    "name": "ipython",
    "version": 3
   },
   "file_extension": ".py",
   "mimetype": "text/x-python",
   "name": "python",
   "nbconvert_exporter": "python",
   "pygments_lexer": "ipython3",
   "version": "3.10.0"
  }
 },
 "nbformat": 4,
 "nbformat_minor": 5
}
